{
 "cells": [
  {
   "cell_type": "markdown",
   "id": "6b0c0b75",
   "metadata": {},
   "source": [
    "# Basic Camera Access for OAK-D Lite"
   ]
  },
  {
   "cell_type": "markdown",
   "id": "1d73063e",
   "metadata": {},
   "source": [
    "## Reference: https://learnopencv.com/introduction-to-opencv-ai-kit-and-depthai/"
   ]
  },
  {
   "cell_type": "code",
   "execution_count": 1,
   "id": "54591595",
   "metadata": {},
   "outputs": [],
   "source": [
    "import cv2\n",
    "import numpy as np\n",
    "import depthai as dai \n",
    "pipeline = dai.Pipeline()"
   ]
  },
  {
   "cell_type": "code",
   "execution_count": 2,
   "id": "a0191bc1",
   "metadata": {},
   "outputs": [],
   "source": [
    "def getFrame(queue):\n",
    "  # Get frame from queue\n",
    "  frame = queue.get()\n",
    "  # Convert frame to OpenCV format and return\n",
    "  return frame.getCvFrame()"
   ]
  },
  {
   "cell_type": "code",
   "execution_count": 3,
   "id": "e32f0116",
   "metadata": {},
   "outputs": [],
   "source": [
    "def getMonoCamera(pipeline, isLeft):\n",
    "    # Configure mono camera\n",
    "    mono = pipeline.createMonoCamera()\n",
    "\n",
    "    # Set Camera Resolution\n",
    "    mono.setResolution(dai.MonoCameraProperties.SensorResolution.THE_400_P)\n",
    "    if isLeft:\n",
    "        # Get left camera\n",
    "        mono.setBoardSocket(dai.CameraBoardSocket.LEFT)\n",
    "    else :\n",
    "        # Get right camera\n",
    "        mono.setBoardSocket(dai.CameraBoardSocket.RIGHT)\n",
    "    return mono"
   ]
  },
  {
   "cell_type": "code",
   "execution_count": 4,
   "id": "b20d07d8",
   "metadata": {},
   "outputs": [],
   "source": [
    "pipeline = dai.Pipeline()\n",
    "\n",
    "# Set up left and right cameras\n",
    "monoLeft = getMonoCamera(pipeline, isLeft = True)\n",
    "monoRight = getMonoCamera(pipeline, isLeft = False)\n",
    "\n",
    "# Set output Xlink for left camera\n",
    "xoutLeft = pipeline.createXLinkOut()\n",
    "xoutLeft.setStreamName(\"left\")\n",
    "\n",
    "# Set output Xlink for right camera\n",
    "xoutRight = pipeline.createXLinkOut()\n",
    "xoutRight.setStreamName(\"right\")\n",
    "\n",
    "# Attach cameras to output Xlink\n",
    "monoLeft.out.link(xoutLeft.input)\n",
    "monoRight.out.link(xoutRight.input)"
   ]
  },
  {
   "cell_type": "code",
   "execution_count": null,
   "id": "09610891",
   "metadata": {},
   "outputs": [],
   "source": [
    "with dai.Device(pipeline) as device:\n",
    "    # Get output queues. \n",
    "    leftQueue = device.getOutputQueue(name=\"left\", maxSize=1)\n",
    "    rightQueue = device.getOutputQueue(name=\"right\", maxSize=1)\n",
    "\n",
    "    # Set display window name\n",
    "    cv2.namedWindow(\"Stereo Pair\")\n",
    "    # Variable used to toggle between side by side view and one \n",
    "#     frame view. \n",
    "    sideBySide = True\n",
    "    \n",
    "    while True:\n",
    "        # Get left frame\n",
    "        leftFrame = getFrame(leftQueue)\n",
    "        # Get right frame \n",
    "        rightFrame = getFrame(rightQueue)\n",
    "\n",
    "        if sideBySide:\n",
    "            # Show side by side view\n",
    "            imOut = np.hstack((leftFrame, rightFrame))\n",
    "        else : \n",
    "            # Show overlapping frames\n",
    "            imOut = np.uint8(leftFrame/2 + rightFrame/2)\n",
    "\n",
    "        # Display output image\n",
    "        cv2.imshow(\"Stereo Pair\", imOut)\n",
    "\n",
    "        # Check for keyboard input\n",
    "        key = cv2.waitKey(1)\n",
    "        if key == ord('q'):\n",
    "            # Quit when q is pressed\n",
    "            break\n",
    "        elif key == ord('t'):\n",
    "            # Toggle display when t is pressed\n",
    "            sideBySide = not sideBySide"
   ]
  },
  {
   "cell_type": "code",
   "execution_count": null,
   "id": "53ab4f11",
   "metadata": {},
   "outputs": [],
   "source": []
  }
 ],
 "metadata": {
  "kernelspec": {
   "display_name": "dai",
   "language": "python",
   "name": "dai"
  },
  "language_info": {
   "codemirror_mode": {
    "name": "ipython",
    "version": 3
   },
   "file_extension": ".py",
   "mimetype": "text/x-python",
   "name": "python",
   "nbconvert_exporter": "python",
   "pygments_lexer": "ipython3",
   "version": "3.9.7"
  }
 },
 "nbformat": 4,
 "nbformat_minor": 5
}
